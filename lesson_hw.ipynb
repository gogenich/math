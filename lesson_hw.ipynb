{
 "cells": [
  {
   "cell_type": "markdown",
   "id": "0f5a993f",
   "metadata": {},
   "source": [
    "# задание 1\n",
    "Предложить пример функции, не имеющей предела в нуле и в бесконечностях.\n",
    "$f(x) = \\frac{x}{x+1}$"
   ]
  },
  {
   "cell_type": "markdown",
   "id": "fb635bfa",
   "metadata": {},
   "source": [
    "# задание 2"
   ]
  },
  {
   "cell_type": "markdown",
   "id": "aeac352f",
   "metadata": {},
   "source": [
    "Привести пример функции, не имеющей предела в точке, но определенной в ней. $f(x) = sin(x)$"
   ]
  },
  {
   "cell_type": "markdown",
   "id": "bdb7e172",
   "metadata": {},
   "source": [
    "# задание 3\n",
    "ислледовать функцию $f(x) = x^3 - x^2$"
   ]
  },
  {
   "cell_type": "markdown",
   "id": "789d7653",
   "metadata": {},
   "source": [
    "a) Область задания и область значений.\n",
    "\n",
    "$D(f) = (-\\infty; +\\infty)$"
   ]
  },
  {
   "cell_type": "markdown",
   "id": "e2f7daa4",
   "metadata": {},
   "source": [
    "б)Нули функции и их кратность.\n",
    "\n",
    "$x^3 - x^2 = 0$\n",
    "\n",
    "$x^2 * (x - 1) = 0$\n",
    "\n",
    "$x^2 = 0$ или $x-1=0$\n",
    "\n",
    "$x=0$ или $x = 1$"
   ]
  },
  {
   "cell_type": "markdown",
   "id": "0349c6e0",
   "metadata": {},
   "source": [
    "в) Отрезки знакопостоянства.\n",
    "\n",
    "\"-\"$(-\\infty; 0)$\n",
    "\n",
    "'+'$(0;1)(1;+\\infty)$"
   ]
  },
  {
   "cell_type": "markdown",
   "id": "7684c397",
   "metadata": {},
   "source": [
    "e) Четность функции.\n",
    "\n",
    "$f(-x) = -x^3 - (-x^2)$\n",
    "\n",
    "$f(-x) = -x^3 - x^2$\n",
    "\n",
    "$f(-x) = -f(x)$ \n",
    "\n",
    "функция нечетна"
   ]
  },
  {
   "cell_type": "markdown",
   "id": "200691a6",
   "metadata": {},
   "source": [
    "# задание 4\n",
    "$\\lim\\limits_{x \\to 0} = \\frac{3x^3 - 2x^2}{4x^2}$"
   ]
  },
  {
   "cell_type": "markdown",
   "id": "b3ccdec0",
   "metadata": {},
   "source": [
    "при подстановке 0 в место х получаем неопределенность типа 0/0 следовательно 0 являеться корнем уровнения и этот корень можно вынести и сократить\n",
    "\n",
    "$\\frac{x-(3x^2 - 2x)}{4x^2} = \\frac{3x^2 - 2x}{4x} $"
   ]
  },
  {
   "cell_type": "markdown",
   "id": "683c7b03",
   "metadata": {},
   "source": [
    "при подстановке 0 в место х получаем неопределенность типа 0/0 следовательно 0 являеться корнем уровнения и этот корень можно вынести и сократить\n",
    "\n",
    "$\\frac{x-(3x - 2)}{4x} = \\frac{3x - 2}{4} $\n",
    "\n",
    "подставляем 0 \n",
    "\n",
    "$\\frac{3*0 - 2}{4} = -\\frac1 2$"
   ]
  },
  {
   "cell_type": "code",
   "execution_count": null,
   "id": "7284f891",
   "metadata": {},
   "outputs": [],
   "source": []
  }
 ],
 "metadata": {
  "kernelspec": {
   "display_name": "Python 3",
   "language": "python",
   "name": "python3"
  },
  "language_info": {
   "codemirror_mode": {
    "name": "ipython",
    "version": 3
   },
   "file_extension": ".py",
   "mimetype": "text/x-python",
   "name": "python",
   "nbconvert_exporter": "python",
   "pygments_lexer": "ipython3",
   "version": "3.8.10"
  }
 },
 "nbformat": 4,
 "nbformat_minor": 5
}
