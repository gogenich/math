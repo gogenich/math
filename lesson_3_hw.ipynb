{
 "cells": [
  {
   "cell_type": "markdown",
   "id": "22f301b5",
   "metadata": {},
   "source": [
    "# задание 1"
   ]
  },
  {
   "cell_type": "markdown",
   "id": "188b1573",
   "metadata": {},
   "source": [
    "Как относятся друг к другу множество и последовательность? (в ответе использовать слова типа: часть, целое, общее, частное, родитель, дочерний субъект и т.д.)\n",
    "\n",
    "ответ: множество это набор определенных чисел без какой либо зависимости можно сказать родитель последовательности, последовательность это дочерний субъект множества в котором числа расположены в определенном порядке(порядок задается формулой)"
   ]
  },
  {
   "cell_type": "markdown",
   "id": "d5eda7ad",
   "metadata": {},
   "source": [
    "### задание 2\n",
    "\n",
    "Даны 4 последовательности. Необходимо:\n",
    "\n",
    "а) исследовать их на монотонность; \n",
    "\n",
    "б) исследовать на ограниченность;\n",
    "\n",
    "в) найти пятый по счету член.\n",
    "\n"
   ]
  },
  {
   "cell_type": "markdown",
   "id": "4d4d5ec7",
   "metadata": {},
   "source": [
    "### 1\n",
    "$\\lbrace a_n\\rbrace _{n=1}^{\\infty} = 2^n - n$\n"
   ]
  },
  {
   "cell_type": "markdown",
   "id": "51e11c11",
   "metadata": {},
   "source": [
    "при помощи пайтон кода найдем первые 5 членов последовательности"
   ]
  },
  {
   "cell_type": "code",
   "execution_count": 16,
   "id": "c0f96b4d",
   "metadata": {},
   "outputs": [
    {
     "name": "stdout",
     "output_type": "stream",
     "text": [
      "a1:1\n",
      "a2:2\n",
      "a3:5\n",
      "a4:12\n",
      "a5:27\n"
     ]
    },
    {
     "data": {
      "text/plain": [
       "[None, None, None, None, None]"
      ]
     },
     "execution_count": 16,
     "metadata": {},
     "output_type": "execute_result"
    }
   ],
   "source": [
    "[print(f'a{n}:{2**n - n}') for n in range(1,6)]"
   ]
  },
  {
   "cell_type": "markdown",
   "id": "d9e4f109",
   "metadata": {},
   "source": [
    "последовательность возрастает \n",
    "\n",
    "$[0:\\infty)$\n",
    "\n",
    "пятый член = 27"
   ]
  },
  {
   "cell_type": "markdown",
   "id": "feef7d0c",
   "metadata": {},
   "source": [
    "### 2\n",
    "$\\lbrace b_n\\rbrace _{n=2}^{\\infty} = \\frac1{1-n}$"
   ]
  },
  {
   "cell_type": "markdown",
   "id": "777f2eff",
   "metadata": {},
   "source": [
    "при помощи пайтон кода найдем первые 5 членов последовательности"
   ]
  },
  {
   "cell_type": "code",
   "execution_count": 17,
   "id": "8baa2b21",
   "metadata": {},
   "outputs": [
    {
     "name": "stdout",
     "output_type": "stream",
     "text": [
      "b1:-1.0\n",
      "b2:-0.5\n",
      "b3:-0.3333333333333333\n",
      "b4:-0.25\n",
      "b5:-0.2\n"
     ]
    },
    {
     "data": {
      "text/plain": [
       "[None, None, None, None, None]"
      ]
     },
     "execution_count": 17,
     "metadata": {},
     "output_type": "execute_result"
    }
   ],
   "source": [
    "[print(f'b{n -1}:{1/(1 - n)}') for n in range(2,7)]"
   ]
  },
  {
   "cell_type": "markdown",
   "id": "1081886c",
   "metadata": {},
   "source": [
    "последовательность бесконечно стремиться к 0 \n",
    "\n",
    "$[-1:0)$\n",
    "\n",
    "пятый член = -0.2"
   ]
  },
  {
   "cell_type": "markdown",
   "id": "7e93211d",
   "metadata": {},
   "source": [
    "### 3\n",
    "$\\lbrace c_n\\rbrace _{n=1}^{\\infty} = -1^n + \\sqrt{2n}$"
   ]
  },
  {
   "cell_type": "code",
   "execution_count": 18,
   "id": "cf3ae54a",
   "metadata": {},
   "outputs": [
    {
     "name": "stdout",
     "output_type": "stream",
     "text": [
      "c1:0.41421356237309515\n",
      "c2:3.0\n",
      "c3:1.4494897427831779\n",
      "c4:3.8284271247461903\n",
      "c5:2.1622776601683795\n"
     ]
    },
    {
     "data": {
      "text/plain": [
       "[None, None, None, None, None]"
      ]
     },
     "execution_count": 18,
     "metadata": {},
     "output_type": "execute_result"
    }
   ],
   "source": [
    "[print(f'c{n}:{(-1)**n + (2 * n)**0.5}') for n in range(1,6)]"
   ]
  },
  {
   "cell_type": "markdown",
   "id": "29b7b024",
   "metadata": {},
   "source": [
    "последовательность возрастающая \n",
    "\n",
    "$[0.41:\\infty)$ или $[\\sqrt{2} - 1 : \\infty)$\n",
    "\n",
    "пятый член = 2.16 или $\\sqrt{10} - 1$"
   ]
  },
  {
   "cell_type": "markdown",
   "id": "7c879d8d",
   "metadata": {},
   "source": [
    "### 4\n",
    "$\\lbrace d_n\\rbrace _{n=1}^{\\infty} = (-1)^{2n} + \\frac1{n^2}$"
   ]
  },
  {
   "cell_type": "code",
   "execution_count": 19,
   "id": "0bed1564",
   "metadata": {},
   "outputs": [
    {
     "name": "stdout",
     "output_type": "stream",
     "text": [
      "d1:2.0\n",
      "d2:1.25\n",
      "d3:1.1111111111111112\n",
      "d4:1.0625\n",
      "d5:1.04\n"
     ]
    },
    {
     "data": {
      "text/plain": [
       "[None, None, None, None, None]"
      ]
     },
     "execution_count": 19,
     "metadata": {},
     "output_type": "execute_result"
    }
   ],
   "source": [
    "[print(f'd{n}:{(-1)**(2*n) + 1 / (n**2)}') for n in range(1,6)]"
   ]
  },
  {
   "cell_type": "markdown",
   "id": "5b481bac",
   "metadata": {},
   "source": [
    "последовательность убывает и стремиться к 1\n",
    "\n",
    "(1:2]\n",
    "\n",
    "пятый член = 1.04"
   ]
  },
  {
   "cell_type": "markdown",
   "id": "40166eba",
   "metadata": {},
   "source": [
    "### задание 3\n",
    "$a_1 = 128, a_{n+1} - a_n = 6$"
   ]
  },
  {
   "cell_type": "markdown",
   "id": "206cc560",
   "metadata": {},
   "source": [
    "исходя из формулы каждый член последовательности будет равен:\n",
    "\n",
    "$a_{n+1}= 6 - a_n$\n",
    "\n",
    "теперь при помощи кода пайтон найдем 12 член последовательности"
   ]
  },
  {
   "cell_type": "code",
   "execution_count": 22,
   "id": "94906bdd",
   "metadata": {},
   "outputs": [
    {
     "name": "stdout",
     "output_type": "stream",
     "text": [
      "a2:-122\n",
      "a3:128\n",
      "a4:-122\n",
      "a5:128\n",
      "a6:-122\n",
      "a7:128\n",
      "a8:-122\n",
      "a9:128\n",
      "a10:-122\n",
      "a11:128\n",
      "a12:-122\n"
     ]
    }
   ],
   "source": [
    "a = 128\n",
    "for i in range(2,13):\n",
    "    next_a = 6 - a\n",
    "    print(f'a{i}:{next_a}')\n",
    "    a = next_a"
   ]
  },
  {
   "cell_type": "code",
   "execution_count": null,
   "id": "82111d61",
   "metadata": {},
   "outputs": [],
   "source": []
  },
  {
   "cell_type": "markdown",
   "id": "c0195f4c",
   "metadata": {},
   "source": [
    "# задание 4"
   ]
  },
  {
   "cell_type": "code",
   "execution_count": 52,
   "id": "8f75169f",
   "metadata": {},
   "outputs": [
    {
     "name": "stdout",
     "output_type": "stream",
     "text": [
      "new:2.663087878748024, old:2.663087878748024, e:0.0002768007292406338\n"
     ]
    }
   ],
   "source": [
    "import math\n",
    "n = 1\n",
    "old = 0\n",
    "for i in range(170):\n",
    "    new = n/(math.factorial(n)**(1/n))\n",
    "    e = new - old\n",
    "    old = new\n",
    "    n = n + 1\n",
    "    \n",
    "print(f'new:{new}, old:{old}, e:{e}')\n",
    "    "
   ]
  },
  {
   "cell_type": "code",
   "execution_count": null,
   "id": "2f0970d2",
   "metadata": {},
   "outputs": [],
   "source": []
  }
 ],
 "metadata": {
  "kernelspec": {
   "display_name": "Python 3",
   "language": "python",
   "name": "python3"
  },
  "language_info": {
   "codemirror_mode": {
    "name": "ipython",
    "version": 3
   },
   "file_extension": ".py",
   "mimetype": "text/x-python",
   "name": "python",
   "nbconvert_exporter": "python",
   "pygments_lexer": "ipython3",
   "version": "3.8.10"
  }
 },
 "nbformat": 4,
 "nbformat_minor": 5
}
